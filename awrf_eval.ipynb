{
 "cells": [
  {
   "cell_type": "code",
   "execution_count": 1,
   "metadata": {},
   "outputs": [
    {
     "name": "stderr",
     "output_type": "stream",
     "text": [
      "PyTerrier 0.10.0 has loaded Terrier 5.8 (built by craigm on 2023-11-01 18:05) and terrier-helper 0.0.8\n",
      "\n"
     ]
    }
   ],
   "source": [
    "from scipy.spatial.distance import jensenshannon\n",
    "import numpy as np\n",
    "import pyterrier as pt\n",
    "\n",
    "if not pt.started():\n",
    "    pt.init(tqdm=\"notebook\")"
   ]
  },
  {
   "cell_type": "markdown",
   "metadata": {},
   "source": [
    "# 1. Obtain the dataset distribution"
   ]
  },
  {
   "cell_type": "code",
   "execution_count": 2,
   "metadata": {},
   "outputs": [],
   "source": [
    "dataset_distribution = {'Man':0, 'Woman':0, 'Non-binary':0, 'Unknown':0, 'null':0}"
   ]
  },
  {
   "cell_type": "code",
   "execution_count": 3,
   "metadata": {},
   "outputs": [
    {
     "data": {
      "application/vnd.jupyter.widget-view+json": {
       "model_id": "668918a5beb2458d84765786c067fbca",
       "version_major": 2,
       "version_minor": 0
      },
      "text/plain": [
       "trec-fair/2022/train documents:   0%|          | 0/6475537 [00:00<?, ?it/s]"
      ]
     },
     "metadata": {},
     "output_type": "display_data"
    }
   ],
   "source": [
    "dataset = pt.get_dataset('irds:trec-fair/2022/train')\n",
    "for it in dataset.get_corpus_iter():\n",
    "    title = it['title']\n",
    "    if it['gender_category']:\n",
    "        gender = it['gender_category']\n",
    "        dataset_distribution[gender]+=1"
   ]
  },
  {
   "cell_type": "code",
   "execution_count": 48,
   "metadata": {},
   "outputs": [
    {
     "name": "stdout",
     "output_type": "stream",
     "text": [
      "{'Man': 1494634, 'Woman': 353495, 'Non-binary': 781, 'Unknown': 4605703, 'null': 0}\n"
     ]
    }
   ],
   "source": [
    "print(dataset_distribution)"
   ]
  },
  {
   "cell_type": "markdown",
   "metadata": {},
   "source": [
    "# 2. Create functions to calculate AWRF and nDCG"
   ]
  },
  {
   "cell_type": "code",
   "execution_count": 8,
   "metadata": {},
   "outputs": [],
   "source": [
    "def disc(k):\n",
    "    \"\"\"\n",
    "    The discount function used in the nDCG/AWRF\n",
    "    \"\"\"\n",
    "    return 1 / np.log2(max(k, 2))"
   ]
  },
  {
   "cell_type": "code",
   "execution_count": 267,
   "metadata": {},
   "outputs": [],
   "source": [
    "def calculate_awrf(ranked_list, expected_distribution, attribute, n=10):\n",
    "    \"\"\"\n",
    "    Calculate the AWRF of a result set\n",
    "    result_df: DataFrame. The dataframe containing the results\n",
    "    expected_distribution: Dict. The distribution of the dataset. e.g.\n",
    "            {'Man': 1494634,\n",
    "            'Woman': 353495,\n",
    "            'Non-binary': 781,\n",
    "            'Unknown': 4605703,\n",
    "            'null': 0}\n",
    "    attribute: Str. The attribute to consider. e.g. 'gender'\n",
    "    n: Int.  refer to the number of documents to consider\n",
    "    \"\"\"\n",
    "    result_df = ranked_list.copy()\n",
    "    current_distribution = {key: 0 for key in expected_distribution}\n",
    "    for index, row in result_df.iterrows():\n",
    "        if index<n:\n",
    "            if row[attribute]:\n",
    "                current_distribution[row[attribute]]+= disc(index+1)\n",
    "            else:\n",
    "                current_distribution['null']+= disc(index+1)\n",
    "    \n",
    "    desired_distribution = np.array(list(expected_distribution.values()))\n",
    "    current_distribution = np.array(list(current_distribution.values()))\n",
    "\n",
    "    target_distr = desired_distribution/np.sum(desired_distribution)\n",
    "    current_distr = current_distribution/np.sum(current_distribution)\n",
    "    awrf = 1- jensenshannon(target_distr, current_distr)**2\n",
    "    return awrf\n",
    "        \n"
   ]
  },
  {
   "cell_type": "markdown",
   "metadata": {},
   "source": [
    "# 3. Test AWRF with raw BM25"
   ]
  },
  {
   "cell_type": "code",
   "execution_count": 263,
   "metadata": {},
   "outputs": [
    {
     "name": "stdout",
     "output_type": "stream",
     "text": [
      "01:29:31.282 [main] WARN org.terrier.structures.FSADocumentIndex - This index has fields, but FSADocumentIndex is used (which stores fields lengths on disk); If using field-based models such as BM25F, change to index.document.class in the index  properties file to FSAFieldDocumentIndex or FSADocumentIndexInMemFields to support efficient retrieval. If you don't use (e.g.) BM25F, this warning can be ignored\n",
      "01:29:34.011 [main] WARN org.terrier.structures.BaseCompressingMetaIndex - Structure meta reading data file directly from disk (SLOW) - try index.meta.data-source=fileinmem in the index properties file. 7.3 GiB of memory would be required.\n"
     ]
    },
    {
     "data": {
      "text/html": [
       "<div>\n",
       "<style scoped>\n",
       "    .dataframe tbody tr th:only-of-type {\n",
       "        vertical-align: middle;\n",
       "    }\n",
       "\n",
       "    .dataframe tbody tr th {\n",
       "        vertical-align: top;\n",
       "    }\n",
       "\n",
       "    .dataframe thead th {\n",
       "        text-align: right;\n",
       "    }\n",
       "</style>\n",
       "<table border=\"1\" class=\"dataframe\">\n",
       "  <thead>\n",
       "    <tr style=\"text-align: right;\">\n",
       "      <th></th>\n",
       "      <th>qid</th>\n",
       "      <th>docid</th>\n",
       "      <th>gender</th>\n",
       "      <th>gender_category</th>\n",
       "      <th>title</th>\n",
       "      <th>rank</th>\n",
       "      <th>score</th>\n",
       "      <th>query</th>\n",
       "    </tr>\n",
       "  </thead>\n",
       "  <tbody>\n",
       "    <tr>\n",
       "      <th>0</th>\n",
       "      <td>1</td>\n",
       "      <td>2951586</td>\n",
       "      <td>[]</td>\n",
       "      <td>Unknown</td>\n",
       "      <td>Agricultural law</td>\n",
       "      <td>0</td>\n",
       "      <td>11.351495</td>\n",
       "      <td>agricultural</td>\n",
       "    </tr>\n",
       "    <tr>\n",
       "      <th>1</th>\n",
       "      <td>1</td>\n",
       "      <td>603749</td>\n",
       "      <td>[]</td>\n",
       "      <td>Unknown</td>\n",
       "      <td>Agricultural communication</td>\n",
       "      <td>1</td>\n",
       "      <td>11.336769</td>\n",
       "      <td>agricultural</td>\n",
       "    </tr>\n",
       "    <tr>\n",
       "      <th>2</th>\n",
       "      <td>1</td>\n",
       "      <td>1766318</td>\n",
       "      <td>[]</td>\n",
       "      <td>Unknown</td>\n",
       "      <td>Census of agriculture</td>\n",
       "      <td>2</td>\n",
       "      <td>11.334330</td>\n",
       "      <td>agricultural</td>\n",
       "    </tr>\n",
       "    <tr>\n",
       "      <th>3</th>\n",
       "      <td>1</td>\n",
       "      <td>5579710</td>\n",
       "      <td>[]</td>\n",
       "      <td>Unknown</td>\n",
       "      <td>Agricultural literacy</td>\n",
       "      <td>3</td>\n",
       "      <td>11.330249</td>\n",
       "      <td>agricultural</td>\n",
       "    </tr>\n",
       "    <tr>\n",
       "      <th>4</th>\n",
       "      <td>1</td>\n",
       "      <td>6401476</td>\n",
       "      <td>[]</td>\n",
       "      <td>Unknown</td>\n",
       "      <td>Ministry of Agriculture and Forestry</td>\n",
       "      <td>4</td>\n",
       "      <td>11.326292</td>\n",
       "      <td>agricultural</td>\n",
       "    </tr>\n",
       "    <tr>\n",
       "      <th>...</th>\n",
       "      <td>...</td>\n",
       "      <td>...</td>\n",
       "      <td>...</td>\n",
       "      <td>...</td>\n",
       "      <td>...</td>\n",
       "      <td>...</td>\n",
       "      <td>...</td>\n",
       "      <td>...</td>\n",
       "    </tr>\n",
       "    <tr>\n",
       "      <th>995</th>\n",
       "      <td>1</td>\n",
       "      <td>6214276</td>\n",
       "      <td>[]</td>\n",
       "      <td>Unknown</td>\n",
       "      <td>Shanxi Agricultural University</td>\n",
       "      <td>995</td>\n",
       "      <td>10.707407</td>\n",
       "      <td>agricultural</td>\n",
       "    </tr>\n",
       "    <tr>\n",
       "      <th>996</th>\n",
       "      <td>1</td>\n",
       "      <td>2649856</td>\n",
       "      <td>[]</td>\n",
       "      <td>Unknown</td>\n",
       "      <td>Federal Agricultural Mortgage Corporation</td>\n",
       "      <td>996</td>\n",
       "      <td>10.706961</td>\n",
       "      <td>agricultural</td>\n",
       "    </tr>\n",
       "    <tr>\n",
       "      <th>997</th>\n",
       "      <td>1</td>\n",
       "      <td>186645</td>\n",
       "      <td>[\"male\"]</td>\n",
       "      <td>Man</td>\n",
       "      <td>He Kang</td>\n",
       "      <td>997</td>\n",
       "      <td>10.706825</td>\n",
       "      <td>agricultural</td>\n",
       "    </tr>\n",
       "    <tr>\n",
       "      <th>998</th>\n",
       "      <td>1</td>\n",
       "      <td>1235218</td>\n",
       "      <td>[]</td>\n",
       "      <td>Unknown</td>\n",
       "      <td>Agricultural Wheel</td>\n",
       "      <td>998</td>\n",
       "      <td>10.706410</td>\n",
       "      <td>agricultural</td>\n",
       "    </tr>\n",
       "    <tr>\n",
       "      <th>999</th>\n",
       "      <td>1</td>\n",
       "      <td>20856</td>\n",
       "      <td>[]</td>\n",
       "      <td>Unknown</td>\n",
       "      <td>Agriculture and Food Agency</td>\n",
       "      <td>999</td>\n",
       "      <td>10.706006</td>\n",
       "      <td>agricultural</td>\n",
       "    </tr>\n",
       "  </tbody>\n",
       "</table>\n",
       "<p>1000 rows × 8 columns</p>\n",
       "</div>"
      ],
      "text/plain": [
       "    qid    docid    gender gender_category  \\\n",
       "0     1  2951586        []         Unknown   \n",
       "1     1   603749        []         Unknown   \n",
       "2     1  1766318        []         Unknown   \n",
       "3     1  5579710        []         Unknown   \n",
       "4     1  6401476        []         Unknown   \n",
       "..   ..      ...       ...             ...   \n",
       "995   1  6214276        []         Unknown   \n",
       "996   1  2649856        []         Unknown   \n",
       "997   1   186645  [\"male\"]             Man   \n",
       "998   1  1235218        []         Unknown   \n",
       "999   1    20856        []         Unknown   \n",
       "\n",
       "                                         title  rank      score         query  \n",
       "0                             Agricultural law     0  11.351495  agricultural  \n",
       "1                   Agricultural communication     1  11.336769  agricultural  \n",
       "2                        Census of agriculture     2  11.334330  agricultural  \n",
       "3                        Agricultural literacy     3  11.330249  agricultural  \n",
       "4         Ministry of Agriculture and Forestry     4  11.326292  agricultural  \n",
       "..                                         ...   ...        ...           ...  \n",
       "995             Shanxi Agricultural University   995  10.707407  agricultural  \n",
       "996  Federal Agricultural Mortgage Corporation   996  10.706961  agricultural  \n",
       "997                                    He Kang   997  10.706825  agricultural  \n",
       "998                         Agricultural Wheel   998  10.706410  agricultural  \n",
       "999                Agriculture and Food Agency   999  10.706006  agricultural  \n",
       "\n",
       "[1000 rows x 8 columns]"
      ]
     },
     "execution_count": 263,
     "metadata": {},
     "output_type": "execute_result"
    }
   ],
   "source": [
    "index_ref = pt.IndexRef.of('D:/Q7/InformationRetrieval/group_project/test_dataset/indices_full/trec-fair_2022_multi')\n",
    "pipeline = pt.BatchRetrieve(index_ref, wmodel='BM25', metadata=['gender', 'gender_category', 'title'])\n",
    "result = pipeline.search('agricultural')\n",
    "result"
   ]
  },
  {
   "cell_type": "code",
   "execution_count": 264,
   "metadata": {},
   "outputs": [
    {
     "name": "stdout",
     "output_type": "stream",
     "text": [
      "AWRF@10 with dataset distribution:  0.8886972609010921\n",
      "AWRF@20 with dataset distribution:  0.8886972609010921\n",
      "AWRF@30 with dataset distribution:  0.8886972609010921\n",
      "AWRF@10 with desired distribution:  0.3768715794213452\n",
      "AWRF@20 with desired distribution:  0.3768715794213452\n",
      "AWRF@30 with desired distribution:  0.3768715794213452\n"
     ]
    }
   ],
   "source": [
    "awrf10 = calculate_awrf(result, dataset_distribution, 'gender_category', n=10)\n",
    "awrf20 = calculate_awrf(result, dataset_distribution, 'gender_category', n=20)\n",
    "awrf30 = calculate_awrf(result, dataset_distribution, 'gender_category', n=30)\n",
    "\n",
    "desired_distribution = {'Man': 1,\n",
    "            'Woman': 1,\n",
    "            'Non-binary': 1,\n",
    "            'Unknown': 0.1,\n",
    "            'null': 0.1}\n",
    "\n",
    "awrf10_ = calculate_awrf(result, desired_distribution, 'gender_category', n=10)\n",
    "awrf20_ = calculate_awrf(result, desired_distribution, 'gender_category', n=20)\n",
    "awrf30_ = calculate_awrf(result, desired_distribution, 'gender_category', n=30)\n",
    "\n",
    "print(\"AWRF@10 with dataset distribution: \", awrf10)\n",
    "print(\"AWRF@20 with dataset distribution: \", awrf20)\n",
    "print(\"AWRF@30 with dataset distribution: \", awrf30)\n",
    "print(\"AWRF@10 with desired distribution: \", awrf10_)\n",
    "print(\"AWRF@20 with desired distribution: \", awrf20_)\n",
    "print(\"AWRF@30 with desired distribution: \", awrf30_)"
   ]
  },
  {
   "cell_type": "markdown",
   "metadata": {},
   "source": []
  }
 ],
 "metadata": {
  "kernelspec": {
   "display_name": "ir",
   "language": "python",
   "name": "python3"
  },
  "language_info": {
   "codemirror_mode": {
    "name": "ipython",
    "version": 3
   },
   "file_extension": ".py",
   "mimetype": "text/x-python",
   "name": "python",
   "nbconvert_exporter": "python",
   "pygments_lexer": "ipython3",
   "version": "3.9.0"
  }
 },
 "nbformat": 4,
 "nbformat_minor": 2
}
