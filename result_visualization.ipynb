{
 "cells": [
  {
   "cell_type": "code",
   "execution_count": 44,
   "metadata": {},
   "outputs": [],
   "source": [
    "import pandas as pd\n",
    "import matplotlib.pyplot as plt\n",
    "from PIL import Image\n",
    "import os"
   ]
  },
  {
   "cell_type": "code",
   "execution_count": 51,
   "metadata": {},
   "outputs": [],
   "source": [
    "def visualization(folder_name: str, dataframe: str, table: str, resolution: int, title_left: str, title_right: str) -> None:\n",
    "    eval_df = pd.read_csv(dataframe)\n",
    "\n",
    "    if not os.path.exists(folder_name):\n",
    "        # Create the folder\n",
    "        os.makedirs(folder_name)\n",
    "        print(f\"Folder '{folder_name}' created.\")\n",
    "    else:\n",
    "        print(f\"Folder '{folder_name}' already exists.\")\n",
    "\n",
    "    averages = {}\n",
    "    stan = {}\n",
    "    median = {}\n",
    "\n",
    "    for column in eval_df.columns:\n",
    "        if eval_df[column].dtype in [int, float]:\n",
    "            averages[column] = eval_df[column].mean()\n",
    "            stan[column] = eval_df[column].std()\n",
    "            median[column] = eval_df[column].median()\n",
    "            \n",
    "    with open(f\"{folder_name}/{table}\", \"w\") as file:\n",
    "        file.write(\" \\\\begin{table}[] \\n \")\n",
    "        file.write(\" \\\\begin{tabular}{l|llll|llll} \\n\")\n",
    "        file.write(\" metric              & nDCG@5 & nDCG@10 & nDCG@20 & nDCG@50 & AWRF@5 & AWRF@10 & AWRF@20 & AWRF@50 \\\\\\\\ \\hline  \\n\")\n",
    "        file.write(f\" average score      & {averages['nDCG5']:.2f} & {averages['nDCG10']:.2f} & {averages['nDCG20']:.2f} & {averages['nDCG50']:.2f} & {averages['awrf5']:.2f} & {averages['awrf10']:.2f} & {averages['awrf20']:.2f} & {averages['awrf50']:.2f} \\\\\\\\ \\n \")\n",
    "        file.write(f\" standard deviation & {stan['nDCG5']:.2f}     & {stan['nDCG10']:.2f}     & {stan['nDCG20']:.2f}     & {stan['nDCG50']:.2f}     & {stan['awrf5']:.2f}     & {stan['awrf10']:.2f}     & {stan['awrf20']:.2f}     & {stan['awrf50']:.2f} \\\\\\\\ \\n\")\n",
    "        file.write(f\" median             & {median['nDCG5']:.2f}   & {median['nDCG10']:.2f}   & {median['nDCG20']:.2f}   & {median['nDCG50']:.2f}   & {median['awrf5']:.2f}   & {median['awrf10']:.2f}   & {median['awrf20']:.2f}   & {median['awrf50']:.2f} \\n\")\n",
    "        file.write(\" \\\\end{tabular} \\n\")\n",
    "        file.write(\" \\\\end{table} \")\n",
    "\n",
    "    plt.figure(figsize=(5, 6), dpi=resolution)\n",
    "    \n",
    "    averages_slice2 = dict(list(averages.items())[:4])\n",
    "    median_slice2 = dict(list(median.items())[:4])\n",
    "    std_slice2 = dict(list(stan.items())[:4])\n",
    "    \n",
    "    plt.plot(list(averages_slice2.keys()), list(averages_slice2.values()), marker='o', color='skyblue', label='Averages', linewidth=2)\n",
    "    plt.plot(list(median_slice2.keys()), list(median_slice2.values()), marker='o', color='orange', label='Median', linewidth=2)\n",
    "    plt.plot(list(std_slice2.keys()), list(std_slice2.values()), marker='o', color='green', label='Standard deviation', linewidth=2)\n",
    "    \n",
    "    plt.title(title_left)\n",
    "    plt.xticks(rotation=45, ha='right')\n",
    "    plt.ylim(0, 1)  # Set y-axis limit to a maximum of 1\n",
    "    plt.legend()\n",
    "    plt.grid(axis='y', linestyle='--', alpha=0.7)\n",
    "    plt.tight_layout()\n",
    "    plt.savefig(f'{folder_name}/{title_left}.png', dpi=resolution)\n",
    "    plt.close()\n",
    "\n",
    "    plt.figure(figsize=(5, 6), dpi=resolution)\n",
    "\n",
    "    # Slice dictionaries to consider only columns 5 to 8\n",
    "    averages_slice = dict(list(averages.items())[4:])\n",
    "    median_slice = dict(list(median.items())[4:])\n",
    "    std_slice = dict(list(stan.items())[4:])\n",
    "\n",
    "    # Get keys and values for the dictionaries\n",
    "    averages_keys, averages_values = list(averages_slice.keys()), list(averages_slice.values())\n",
    "    median_keys, median_values = list(median_slice.keys()), list(median_slice.values())\n",
    "    std_keys, std_values = list(std_slice.keys()), list(std_slice.values())\n",
    "\n",
    "    # Plot averages as lines\n",
    "    plt.plot(averages_keys, averages_values, marker='o', color='skyblue', label='Averages', linewidth=2)\n",
    "    plt.plot(median_keys, median_values, marker='o', color='orange', label='Median', linewidth=2)\n",
    "    plt.plot(std_keys, std_values, marker='o', color='green', label='Standard deviation', linewidth=2)\n",
    "\n",
    "    plt.title(title_right)\n",
    "    plt.xticks(rotation=45, ha='right')\n",
    "    plt.ylim(0, 1)  # Set y-axis limit to a maximum of 1\n",
    "    plt.legend()\n",
    "    plt.grid(axis='y', linestyle='--', alpha=0.7)\n",
    "    plt.tight_layout()\n",
    "    plt.savefig(f'{folder_name}/{title_right}.png', dpi=resolution)\n",
    "    plt.close()\n",
    "    \n",
    "    # Open the two images to be merged\n",
    "    image1 = Image.open(f\"{folder_name}/{title_right}.png\")\n",
    "    image2 = Image.open(f\"{folder_name}/{title_left}.png\")\n",
    "\n",
    "    # Check if the images have the same size\n",
    "    if image1.size == image2.size:\n",
    "        merged_image = Image.new(\"RGB\", (image1.width * 2, image1.height))\n",
    "\n",
    "        # Merge the images\n",
    "        merged_image.paste(image2, (0, 0))\n",
    "        merged_image.paste(image1, (image1.width, 0))\n",
    "\n",
    "        # Save the merged image\n",
    "        merged_image.save(f\"{folder_name}/merged_image.png\")\n",
    "    else:\n",
    "        print(\"Images have different sizes, cannot merge.\")"
   ]
  },
  {
   "cell_type": "code",
   "execution_count": 52,
   "metadata": {},
   "outputs": [
    {
     "name": "stdout",
     "output_type": "stream",
     "text": [
      "Folder 'images' already exists.\n"
     ]
    }
   ],
   "source": [
    "visualization(\"images\",\"BM25 results.csv\",\"output.txt\",100,\"nDCG\",\"AWRF\")"
   ]
  }
 ],
 "metadata": {
  "kernelspec": {
   "display_name": "Python 3",
   "language": "python",
   "name": "python3"
  },
  "language_info": {
   "codemirror_mode": {
    "name": "ipython",
    "version": 3
   },
   "file_extension": ".py",
   "mimetype": "text/x-python",
   "name": "python",
   "nbconvert_exporter": "python",
   "pygments_lexer": "ipython3",
   "version": "3.8.10"
  }
 },
 "nbformat": 4,
 "nbformat_minor": 2
}
