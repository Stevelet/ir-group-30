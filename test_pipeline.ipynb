{
 "cells": [
  {
   "cell_type": "code",
   "execution_count": 1,
   "metadata": {},
   "outputs": [
    {
     "name": "stderr",
     "output_type": "stream",
     "text": [
      "PyTerrier 0.10.0 has loaded Terrier 5.8 (built by craigm on 2023-11-01 18:05) and terrier-helper 0.0.8\n",
      "\n"
     ]
    }
   ],
   "source": [
    "import pyterrier as pt\n",
    "import json\n",
    "import numpy as np\n",
    "from scipy.spatial.distance import jensenshannon\n",
    "import ast\n",
    "import pandas as pd\n",
    "import ir_datasets\n",
    "if not pt.started():\n",
    "    pt.init(tqdm=\"notebook\")"
   ]
  },
  {
   "cell_type": "markdown",
   "metadata": {},
   "source": [
    "# 1. Define evaluation metrics"
   ]
  },
  {
   "cell_type": "code",
   "execution_count": 2,
   "metadata": {},
   "outputs": [],
   "source": [
    "def dcg(scores, k):\n",
    "    return np.sum([(rel / np.log2(idx + 2)) for idx, rel in enumerate(scores[:k], start=1)])\n",
    "\n",
    "def calculate_ndcg(ranked_list, qrel_dict, qid, n):\n",
    "    \"\"\"\n",
    "    Calculate the nDCG of a result set\n",
    "    result_df: DataFrame. The dataframe containing the results\n",
    "    \"\"\"\n",
    "    result_df = ranked_list.copy()\n",
    "    result_df['docno'] = result_df['docno'].astype(str)\n",
    "    # pair = (qid, result_df['docid'].values[0])\n",
    "    \n",
    "    result_df['gt_relevance'] = result_df.apply(lambda row: qrel_dict.get((qid, str(row['docno'])), 0), axis=1)\n",
    "    scores = result_df['gt_relevance'].values[0:n]\n",
    "    ideal_scores = sorted(scores, reverse=True)\n",
    "    DCG = dcg(scores, n)\n",
    "    IDCG = dcg(ideal_scores, n)\n",
    "    if IDCG >0:\n",
    "        return DCG/IDCG\n",
    "    else:\n",
    "        return 0\n",
    "    \n",
    "def disc(k):\n",
    "    \"\"\"\n",
    "    The discount function used in the nDCG/AWRF\n",
    "    \"\"\"\n",
    "    return 1 / np.log2(max(k, 2))\n",
    "\n",
    "def calculate_awrf(ranked_list, expected_distribution, attribute, n=10):\n",
    "    \"\"\"\n",
    "    Calculate the AWRF of a result set\n",
    "    result_df: DataFrame. The dataframe containing the results\n",
    "    expected_distribution: Dict. The distribution of the dataset. e.g.\n",
    "            {'Man': 1494634,\n",
    "            'Woman': 353495,\n",
    "            'Non-binary': 781,\n",
    "            'Unknown': 4605703,\n",
    "            'null': 0}\n",
    "    attribute: Str. The attribute to consider. e.g. 'gender'\n",
    "    n: Int.  refer to the number of documents to consider\n",
    "    \"\"\"\n",
    "    result_df = ranked_list.copy()\n",
    "    current_distribution = {key: 0 for key in expected_distribution}\n",
    "    for index, row in result_df.iterrows():\n",
    "        if index<n:\n",
    "            if row[attribute]:\n",
    "                current_distribution[row[attribute]]+= disc(index+1)\n",
    "            else:\n",
    "                current_distribution['null']+= disc(index+1)\n",
    "    \n",
    "    desired_distribution = np.array(list(expected_distribution.values()))\n",
    "    current_distribution = np.array(list(current_distribution.values()))\n",
    "\n",
    "    target_distr = desired_distribution/np.sum(desired_distribution)\n",
    "    current_distr = current_distribution/np.sum(current_distribution)\n",
    "    awrf = 1- jensenshannon(target_distr, current_distr)**2\n",
    "    return awrf"
   ]
  },
  {
   "cell_type": "markdown",
   "metadata": {},
   "source": [
    "# 2. Obtain dataset distribution of gender and qrel for AWRF and NDCG calculation"
   ]
  },
  {
   "cell_type": "code",
   "execution_count": 3,
   "metadata": {},
   "outputs": [
    {
     "data": {
      "application/vnd.jupyter.widget-view+json": {
       "model_id": "e19078cb167e4c78b9a354048a38496f",
       "version_major": 2,
       "version_minor": 0
      },
      "text/plain": [
       "trec-fair/2022/train documents:   0%|          | 0/6475537 [00:00<?, ?it/s]"
      ]
     },
     "metadata": {},
     "output_type": "display_data"
    }
   ],
   "source": [
    "dataset = pt.get_dataset('irds:trec-fair/2022/train')\n",
    "dataset_distribution = {'Man':0, 'Woman':0, 'Non-binary':0, 'Unknown':0, 'null':0}\n",
    "for it in dataset.get_corpus_iter():\n",
    "    title = it['title']\n",
    "    if it['gender_category']:\n",
    "        gender = it['gender_category']\n",
    "        dataset_distribution[gender]+=1\n",
    "\n",
    "\n",
    "dataset = ir_datasets.load(\"trec-fair/2022/train\")\n",
    "qrel_dict = {(qrel.query_id, qrel.doc_id): qrel.relevance for qrel in dataset.qrels_iter()}"
   ]
  },
  {
   "cell_type": "markdown",
   "metadata": {},
   "source": [
    "# 3. Obtain biography related queries"
   ]
  },
  {
   "cell_type": "code",
   "execution_count": 18,
   "metadata": {},
   "outputs": [],
   "source": [
    "biography_related_topics = ['396', '397', '403', '770', '1371']\n",
    "with open(\"train_topics_meta.jsonl\", \"r\") as f:\n",
    "    topics = [json.loads(line) for line in f]\n",
    "# \"id\":396,\"title\":\"Biography/WikiProject Actors and Filmmakers\"\n",
    "# \"id\":397,\"title\":\"Biography/WikiProject Musicians\"\n",
    "# \"id\":403,\"title\":\"Biography/science and academia work group\"\n",
    "# \"id\":770,\"title\":\"Crime and Criminal Biography\"\n",
    "# \"id\":1371,\"title\":\"Japan/Biography task force\"\n",
    "topic_id = topics[0]['id']\n",
    "all_topic_queries = topics[0]['keywords']\n",
    "test_query_dict = {}\n",
    "for key, val in topic_id.items():\n",
    "    if str(val) in biography_related_topics:\n",
    "        topic_queries = all_topic_queries[key]\n",
    "        topic_query_list = ast.literal_eval(topic_queries)\n",
    "        test_query_dict[str(val)] = topic_query_list\n"
   ]
  },
  {
   "cell_type": "markdown",
   "metadata": {},
   "source": [
    "# 4. Build the retrieval pipeline"
   ]
  },
  {
   "cell_type": "code",
   "execution_count": 20,
   "metadata": {},
   "outputs": [
    {
     "name": "stdout",
     "output_type": "stream",
     "text": [
      "19:40:11.674 [main] WARN org.terrier.structures.FSADocumentIndex - This index has fields, but FSADocumentIndex is used (which stores fields lengths on disk); If using field-based models such as BM25F, change to index.document.class in the index  properties file to FSAFieldDocumentIndex or FSADocumentIndexInMemFields to support efficient retrieval. If you don't use (e.g.) BM25F, this warning can be ignored\n",
      "19:40:14.417 [main] WARN org.terrier.structures.BaseCompressingMetaIndex - Structure meta reading data file directly from disk (SLOW) - try index.meta.data-source=fileinmem in the index properties file. 7.3 GiB of memory would be required.\n"
     ]
    }
   ],
   "source": [
    "index_ref = pt.IndexRef.of('D:/Q7/InformationRetrieval/group_project/test_dataset/indices_full/trec-fair_2022_multi')\n",
    "pipeline = pt.BatchRetrieve(index_ref, wmodel='BM25', metadata=['gender', 'gender_category', 'title', 'docno'])"
   ]
  },
  {
   "cell_type": "markdown",
   "metadata": {},
   "source": [
    "# 5. Retrieve and evaluation"
   ]
  },
  {
   "cell_type": "code",
   "execution_count": 21,
   "metadata": {},
   "outputs": [
    {
     "name": "stderr",
     "output_type": "stream",
     "text": [
      "100%|██████████| 5/5 [00:34<00:00,  6.82s/it]\n"
     ]
    }
   ],
   "source": [
    "eval_reulst = []\n",
    "from tqdm import tqdm\n",
    "for topic_id, topic_query_list in tqdm(test_query_dict.items()):\n",
    "    for query in topic_query_list:\n",
    "        result = pipeline.search(query)\n",
    "        nDCG20 = calculate_ndcg(result, qrel_dict, qid=topic_id, n=20)\n",
    "        awrf20 = calculate_awrf(result, dataset_distribution, 'gender_category', n=20)\n",
    "        eval_reulst.append([topic_id, query, nDCG20, awrf20])\n",
    "\n",
    "eval_df = pd.DataFrame(eval_reulst, columns=[\"topic_id\", \"query\", \"nDCG@20\", \"AWRF@20\"])"
   ]
  },
  {
   "cell_type": "code",
   "execution_count": 23,
   "metadata": {},
   "outputs": [
    {
     "data": {
      "text/html": [
       "<div>\n",
       "<style scoped>\n",
       "    .dataframe tbody tr th:only-of-type {\n",
       "        vertical-align: middle;\n",
       "    }\n",
       "\n",
       "    .dataframe tbody tr th {\n",
       "        vertical-align: top;\n",
       "    }\n",
       "\n",
       "    .dataframe thead th {\n",
       "        text-align: right;\n",
       "    }\n",
       "</style>\n",
       "<table border=\"1\" class=\"dataframe\">\n",
       "  <thead>\n",
       "    <tr style=\"text-align: right;\">\n",
       "      <th></th>\n",
       "      <th>topic_id</th>\n",
       "      <th>query</th>\n",
       "      <th>nDCG@20</th>\n",
       "      <th>AWRF@20</th>\n",
       "    </tr>\n",
       "  </thead>\n",
       "  <tbody>\n",
       "    <tr>\n",
       "      <th>0</th>\n",
       "      <td>396</td>\n",
       "      <td>actor</td>\n",
       "      <td>0.480360</td>\n",
       "      <td>0.980590</td>\n",
       "    </tr>\n",
       "    <tr>\n",
       "      <th>1</th>\n",
       "      <td>396</td>\n",
       "      <td>cast</td>\n",
       "      <td>0.000000</td>\n",
       "      <td>0.928159</td>\n",
       "    </tr>\n",
       "    <tr>\n",
       "      <th>2</th>\n",
       "      <td>396</td>\n",
       "      <td>screenwriter</td>\n",
       "      <td>0.641466</td>\n",
       "      <td>0.745758</td>\n",
       "    </tr>\n",
       "    <tr>\n",
       "      <th>3</th>\n",
       "      <td>396</td>\n",
       "      <td>filmmaker</td>\n",
       "      <td>0.467492</td>\n",
       "      <td>0.961185</td>\n",
       "    </tr>\n",
       "    <tr>\n",
       "      <th>4</th>\n",
       "      <td>396</td>\n",
       "      <td>film</td>\n",
       "      <td>0.000000</td>\n",
       "      <td>0.888697</td>\n",
       "    </tr>\n",
       "    <tr>\n",
       "      <th>...</th>\n",
       "      <td>...</td>\n",
       "      <td>...</td>\n",
       "      <td>...</td>\n",
       "      <td>...</td>\n",
       "    </tr>\n",
       "    <tr>\n",
       "      <th>279</th>\n",
       "      <td>1371</td>\n",
       "      <td>kawashima</td>\n",
       "      <td>0.686181</td>\n",
       "      <td>0.886308</td>\n",
       "    </tr>\n",
       "    <tr>\n",
       "      <th>280</th>\n",
       "      <td>1371</td>\n",
       "      <td>kazufumi</td>\n",
       "      <td>0.792481</td>\n",
       "      <td>0.959422</td>\n",
       "    </tr>\n",
       "    <tr>\n",
       "      <th>281</th>\n",
       "      <td>1371</td>\n",
       "      <td>utada</td>\n",
       "      <td>0.000000</td>\n",
       "      <td>0.888697</td>\n",
       "    </tr>\n",
       "    <tr>\n",
       "      <th>282</th>\n",
       "      <td>1371</td>\n",
       "      <td>yuriko</td>\n",
       "      <td>0.533695</td>\n",
       "      <td>0.851755</td>\n",
       "    </tr>\n",
       "    <tr>\n",
       "      <th>283</th>\n",
       "      <td>1371</td>\n",
       "      <td>mikako</td>\n",
       "      <td>0.540575</td>\n",
       "      <td>0.861290</td>\n",
       "    </tr>\n",
       "  </tbody>\n",
       "</table>\n",
       "<p>284 rows × 4 columns</p>\n",
       "</div>"
      ],
      "text/plain": [
       "    topic_id         query   nDCG@20   AWRF@20\n",
       "0        396         actor  0.480360  0.980590\n",
       "1        396          cast  0.000000  0.928159\n",
       "2        396  screenwriter  0.641466  0.745758\n",
       "3        396     filmmaker  0.467492  0.961185\n",
       "4        396          film  0.000000  0.888697\n",
       "..       ...           ...       ...       ...\n",
       "279     1371     kawashima  0.686181  0.886308\n",
       "280     1371      kazufumi  0.792481  0.959422\n",
       "281     1371         utada  0.000000  0.888697\n",
       "282     1371        yuriko  0.533695  0.851755\n",
       "283     1371        mikako  0.540575  0.861290\n",
       "\n",
       "[284 rows x 4 columns]"
      ]
     },
     "execution_count": 23,
     "metadata": {},
     "output_type": "execute_result"
    }
   ],
   "source": [
    "eval_df"
   ]
  }
 ],
 "metadata": {
  "kernelspec": {
   "display_name": "ir",
   "language": "python",
   "name": "python3"
  },
  "language_info": {
   "codemirror_mode": {
    "name": "ipython",
    "version": 3
   },
   "file_extension": ".py",
   "mimetype": "text/x-python",
   "name": "python",
   "nbconvert_exporter": "python",
   "pygments_lexer": "ipython3",
   "version": "3.9.19"
  }
 },
 "nbformat": 4,
 "nbformat_minor": 2
}
